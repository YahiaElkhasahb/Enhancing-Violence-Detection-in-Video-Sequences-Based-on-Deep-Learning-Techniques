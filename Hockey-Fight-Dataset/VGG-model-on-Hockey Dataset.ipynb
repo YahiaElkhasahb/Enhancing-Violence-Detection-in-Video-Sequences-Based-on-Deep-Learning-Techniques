{
  "nbformat": 4,
  "nbformat_minor": 0,
  "metadata": {
    "accelerator": "GPU",
    "colab": {
      "name": "GP-VGG.ipynb",
      "provenance": [],
      "collapsed_sections": [],
      "machine_shape": "hm"
    },
    "kernelspec": {
      "display_name": "Python 3",
      "name": "python3"
    },
    "language_info": {
      "name": "python"
    }
  },
  "cells": [
    {
      "cell_type": "code",
      "metadata": {
        "colab": {
          "resources": {
            "http://localhost:8080/nbextensions/google.colab/files.js": {
              "data": "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",
              "ok": true,
              "headers": [
                [
                  "content-type",
                  "application/javascript"
                ]
              ],
              "status": 200,
              "status_text": ""
            }
          },
          "base_uri": "https://localhost:8080/",
          "height": 72
        },
        "id": "DPQe3QCeVxQL",
        "outputId": "ce8bd312-1068-4c5e-c07b-0c32b39c55d3"
      },
      "source": [
        "from google.colab import files\n",
        "uploaded = files.upload()"
      ],
      "execution_count": null,
      "outputs": [
        {
          "output_type": "display_data",
          "data": {
            "text/html": [
              "\n",
              "     <input type=\"file\" id=\"files-67de468c-7082-452f-b55b-7fb179bee2b1\" name=\"files[]\" multiple disabled\n",
              "        style=\"border:none\" />\n",
              "     <output id=\"result-67de468c-7082-452f-b55b-7fb179bee2b1\">\n",
              "      Upload widget is only available when the cell has been executed in the\n",
              "      current browser session. Please rerun this cell to enable.\n",
              "      </output>\n",
              "      <script src=\"/nbextensions/google.colab/files.js\"></script> "
            ],
            "text/plain": [
              "<IPython.core.display.HTML object>"
            ]
          },
          "metadata": {
            "tags": []
          }
        },
        {
          "output_type": "stream",
          "text": [
            "Saving kaggle.json to kaggle.json\n"
          ],
          "name": "stdout"
        }
      ]
    },
    {
      "cell_type": "code",
      "metadata": {
        "colab": {
          "base_uri": "https://localhost:8080/"
        },
        "id": "dMNgjir9WEpV",
        "outputId": "50ba8109-7b2c-45c3-cac3-01467be5c5ad"
      },
      "source": [
        "!cp /content/kaggle.json ~/.kaggle/kaggle.json\n",
        "\n",
        "!kaggle datasets download -d 'yassershrief/hockey-fight-vidoes'"
      ],
      "execution_count": null,
      "outputs": [
        {
          "output_type": "stream",
          "text": [
            "Warning: Your Kaggle API key is readable by other users on this system! To fix this, you can run 'chmod 600 /root/.kaggle/kaggle.json'\n",
            "Downloading hockey-fight-vidoes.zip to /content\n",
            " 98% 161M/164M [00:05<00:00, 27.6MB/s]\n",
            "100% 164M/164M [00:05<00:00, 32.5MB/s]\n"
          ],
          "name": "stdout"
        }
      ]
    },
    {
      "cell_type": "code",
      "metadata": {
        "id": "Bu4t-d5KWSG5"
      },
      "source": [
        "import zipfile\n",
        "with zipfile.ZipFile(\"hockey-fight-vidoes.zip\",\"r\") as zip_ref:\n",
        "    zip_ref.extractall(\"hockey-fight-vidoes\")"
      ],
      "execution_count": null,
      "outputs": []
    },
    {
      "cell_type": "code",
      "metadata": {
        "id": "pPVe3vxRWZ9R"
      },
      "source": [
        "%matplotlib inline\n",
        "import cv2\n",
        "import os\n",
        "import numpy as np\n",
        "import keras\n",
        "import matplotlib.pyplot as plt\n",
        "# import download\n",
        "from random import shuffle\n",
        "from tensorflow.keras.applications import VGG16\n",
        "from tensorflow.keras import backend as K\n",
        "from tensorflow.keras.models import Model, Sequential\n",
        "from tensorflow.keras.layers import Input\n",
        "from tensorflow.keras.layers import LSTM\n",
        "from tensorflow.keras.layers import Dense, Activation\n",
        "import sys\n",
        "import h5py"
      ],
      "execution_count": null,
      "outputs": []
    },
    {
      "cell_type": "code",
      "metadata": {
        "colab": {
          "base_uri": "https://localhost:8080/",
          "height": 35
        },
        "id": "9KLXdEkOWcLA",
        "outputId": "00a13817-bf1f-4e61-b367-332ed36f220f"
      },
      "source": [
        "keras.__version__"
      ],
      "execution_count": null,
      "outputs": [
        {
          "output_type": "execute_result",
          "data": {
            "application/vnd.google.colaboratory.intrinsic+json": {
              "type": "string"
            },
            "text/plain": [
              "'2.5.0'"
            ]
          },
          "metadata": {
            "tags": []
          },
          "execution_count": 6
        }
      ]
    },
    {
      "cell_type": "code",
      "metadata": {
        "id": "7b15U4brWeI6"
      },
      "source": [
        "def print_progress(count, max_count):\n",
        "    # Percentage completion.\n",
        "    pct_complete = count / max_count\n",
        "\n",
        "    # Status-message. Note the \\r which means the line should\n",
        "    # overwrite itself.\n",
        "    msg = \"\\r- Progress: {0:.1%}\".format(pct_complete)\n",
        "\n",
        "    # Print it.\n",
        "    sys.stdout.write(msg)\n",
        "    sys.stdout.flush()"
      ],
      "execution_count": null,
      "outputs": []
    },
    {
      "cell_type": "code",
      "metadata": {
        "id": "Uam9cRc4We1y"
      },
      "source": [
        "in_dir = \"hockey-fight-vidoes/data\""
      ],
      "execution_count": null,
      "outputs": []
    },
    {
      "cell_type": "code",
      "metadata": {
        "id": "CdSJnd2HWlCM"
      },
      "source": [
        "# Frame size  \n",
        "img_size = 224\n",
        "\n",
        "img_size_touple = (img_size, img_size)\n",
        "\n",
        "# Number of channels (RGB)\n",
        "num_channels = 3\n",
        "\n",
        "# Flat frame size\n",
        "img_size_flat = img_size * img_size * num_channels\n",
        "\n",
        "# Number of classes for classification (Violence-No Violence)\n",
        "num_classes = 2\n",
        "\n",
        "# Number of files to train\n",
        "_num_files_train = 1\n",
        "\n",
        "# Number of frames per video\n",
        "_images_per_file = 20\n",
        "\n",
        "# Number of frames per training set\n",
        "_num_images_train = _num_files_train * _images_per_file\n",
        "\n",
        "# Video extension\n",
        "video_exts = \".avi\""
      ],
      "execution_count": null,
      "outputs": []
    },
    {
      "cell_type": "code",
      "metadata": {
        "id": "4cP9AupFWlYq"
      },
      "source": [
        "def get_frames(current_dir, file_name):\n",
        "    \n",
        "    in_file = os.path.join(current_dir, file_name)\n",
        "    \n",
        "    images = []\n",
        "    \n",
        "    vidcap = cv2.VideoCapture(in_file)\n",
        "    \n",
        "    success,image = vidcap.read()\n",
        "        \n",
        "    count = 0\n",
        "\n",
        "    while count<_images_per_file:\n",
        "                \n",
        "        RGB_img = cv2.cvtColor(image, cv2.COLOR_BGR2RGB)\n",
        "    \n",
        "        res = cv2.resize(RGB_img, dsize=(img_size, img_size),\n",
        "                                 interpolation=cv2.INTER_CUBIC)\n",
        "    \n",
        "        images.append(res)\n",
        "    \n",
        "        success,image = vidcap.read()\n",
        "    \n",
        "        count += 1\n",
        "        \n",
        "    resul = np.array(images)\n",
        "    \n",
        "    resul = (resul / 255.).astype(np.float16)\n",
        "        \n",
        "    return resul"
      ],
      "execution_count": null,
      "outputs": []
    },
    {
      "cell_type": "code",
      "metadata": {
        "id": "uqHS1bXIWo7q"
      },
      "source": [
        "def label_video_names(in_dir):\n",
        "    \n",
        "    # list containing video names\n",
        "    names = []\n",
        "    # list containin video labels [1, 0] if it has violence and [0, 1] if not\n",
        "    labels = []\n",
        "    \n",
        "    \n",
        "    for current_dir, dir_names,file_names in os.walk(in_dir):\n",
        "        \n",
        "        for file_name in file_names:\n",
        "            \n",
        "            if file_name[0:2] == 'fi':\n",
        "                labels.append([1,0])\n",
        "                names.append(file_name)\n",
        "            elif file_name[0:2] == 'no':\n",
        "                labels.append([0,1])\n",
        "                names.append(file_name)\n",
        "                     \n",
        "            \n",
        "    c = list(zip(names,labels))\n",
        "    # Suffle the data (names and labels)\n",
        "    shuffle(c)\n",
        "    \n",
        "    names, labels = zip(*c)\n",
        "            \n",
        "    return names, labels"
      ],
      "execution_count": null,
      "outputs": []
    },
    {
      "cell_type": "code",
      "metadata": {
        "id": "lLxZmUzyWrti"
      },
      "source": [
        "# First get the names and labels of the whole videos\n",
        "names, labels = label_video_names(in_dir)"
      ],
      "execution_count": null,
      "outputs": []
    },
    {
      "cell_type": "code",
      "metadata": {
        "colab": {
          "base_uri": "https://localhost:8080/",
          "height": 35
        },
        "id": "hmLl-AvYWtOC",
        "outputId": "9174cae7-293b-4a6b-aa85-7c1420b1e800"
      },
      "source": [
        "names[12]"
      ],
      "execution_count": null,
      "outputs": [
        {
          "output_type": "execute_result",
          "data": {
            "application/vnd.google.colaboratory.intrinsic+json": {
              "type": "string"
            },
            "text/plain": [
              "'fi419_xvid.avi'"
            ]
          },
          "metadata": {
            "tags": []
          },
          "execution_count": 13
        }
      ]
    },
    {
      "cell_type": "code",
      "metadata": {
        "id": "n7PEtW_3XDC6"
      },
      "source": [
        "frames = get_frames(in_dir, names[12])"
      ],
      "execution_count": null,
      "outputs": []
    },
    {
      "cell_type": "code",
      "metadata": {
        "id": "LnlHZCrrXEup"
      },
      "source": [
        "visible_frame = (frames*255).astype('uint8')"
      ],
      "execution_count": null,
      "outputs": []
    },
    {
      "cell_type": "code",
      "metadata": {
        "colab": {
          "base_uri": "https://localhost:8080/",
          "height": 286
        },
        "id": "Q6oDKbUoXGZ1",
        "outputId": "56aa0752-6cc0-4762-8ae2-4bc68ed3bbc5"
      },
      "source": [
        "plt.imshow(visible_frame[3])"
      ],
      "execution_count": null,
      "outputs": [
        {
          "output_type": "execute_result",
          "data": {
            "text/plain": [
              "<matplotlib.image.AxesImage at 0x7f620bbb1250>"
            ]
          },
          "metadata": {
            "tags": []
          },
          "execution_count": 16
        },
        {
          "output_type": "display_data",
          "data": {
            "image/png": "[encoded data removed]",
            "text/plain": [
              "<Figure size 432x288 with 1 Axes>"
            ]
          },
          "metadata": {
            "tags": [],
            "needs_background": "light"
          }
        }
      ]
    },
    {
      "cell_type": "code",
      "metadata": {
        "colab": {
          "base_uri": "https://localhost:8080/",
          "height": 286
        },
        "id": "WY25VnuTXIAC",
        "outputId": "84b55757-62fb-4f46-fb1f-34d169161d48"
      },
      "source": [
        "plt.imshow(visible_frame[15])"
      ],
      "execution_count": null,
      "outputs": [
        {
          "output_type": "execute_result",
          "data": {
            "text/plain": [
              "<matplotlib.image.AxesImage at 0x7f620b68b850>"
            ]
          },
          "metadata": {
            "tags": []
          },
          "execution_count": 17
        },
        {
          "output_type": "display_data",
          "data": {
            "image/png": "[encoded data removed]",
            "text/plain": [
              "<Figure size 432x288 with 1 Axes>"
            ]
          },
          "metadata": {
            "tags": [],
            "needs_background": "light"
          }
        }
      ]
    },
    {
      "cell_type": "code",
      "metadata": {
        "colab": {
          "base_uri": "https://localhost:8080/"
        },
        "id": "_USOGfC6XKJL",
        "outputId": "578a0f16-3358-45d8-c227-c1d2671410b3"
      },
      "source": [
        "image_model = VGG16(include_top=True, weights='imagenet')"
      ],
      "execution_count": null,
      "outputs": [
        {
          "output_type": "stream",
          "text": [
            "Downloading data from https://storage.googleapis.com/tensorflow/keras-applications/vgg16/vgg16_weights_tf_dim_ordering_tf_kernels.h5\n",
            "553467904/553467096 [==============================] - 15s 0us/step\n"
          ],
          "name": "stdout"
        }
      ]
    },
    {
      "cell_type": "code",
      "metadata": {
        "colab": {
          "base_uri": "https://localhost:8080/"
        },
        "id": "oiTMNp-CXMBc",
        "outputId": "dd0a82ef-7db4-4dc5-9c46-893a629f0c05"
      },
      "source": [
        "image_model.summary()"
      ],
      "execution_count": null,
      "outputs": [
        {
          "output_type": "stream",
          "text": [
            "Model: \"vgg16\"\n",
            "_________________________________________________________________\n",
            "Layer (type)                 Output Shape              Param #   \n",
            "=================================================================\n",
            "input_1 (InputLayer)         [(None, 224, 224, 3)]     0         \n",
            "_________________________________________________________________\n",
            "block1_conv1 (Conv2D)        (None, 224, 224, 64)      1792      \n",
            "_________________________________________________________________\n",
            "block1_conv2 (Conv2D)        (None, 224, 224, 64)      36928     \n",
            "_________________________________________________________________\n",
            "block1_pool (MaxPooling2D)   (None, 112, 112, 64)      0         \n",
            "_________________________________________________________________\n",
            "block2_conv1 (Conv2D)        (None, 112, 112, 128)     73856     \n",
            "_________________________________________________________________\n",
            "block2_conv2 (Conv2D)        (None, 112, 112, 128)     147584    \n",
            "_________________________________________________________________\n",
            "block2_pool (MaxPooling2D)   (None, 56, 56, 128)       0         \n",
            "_________________________________________________________________\n",
            "block3_conv1 (Conv2D)        (None, 56, 56, 256)       295168    \n",
            "_________________________________________________________________\n",
            "block3_conv2 (Conv2D)        (None, 56, 56, 256)       590080    \n",
            "_________________________________________________________________\n",
            "block3_conv3 (Conv2D)        (None, 56, 56, 256)       590080    \n",
            "_________________________________________________________________\n",
            "block3_pool (MaxPooling2D)   (None, 28, 28, 256)       0         \n",
            "_________________________________________________________________\n",
            "block4_conv1 (Conv2D)        (None, 28, 28, 512)       1180160   \n",
            "_________________________________________________________________\n",
            "block4_conv2 (Conv2D)        (None, 28, 28, 512)       2359808   \n",
            "_________________________________________________________________\n",
            "block4_conv3 (Conv2D)        (None, 28, 28, 512)       2359808   \n",
            "_________________________________________________________________\n",
            "block4_pool (MaxPooling2D)   (None, 14, 14, 512)       0         \n",
            "_________________________________________________________________\n",
            "block5_conv1 (Conv2D)        (None, 14, 14, 512)       2359808   \n",
            "_________________________________________________________________\n",
            "block5_conv2 (Conv2D)        (None, 14, 14, 512)       2359808   \n",
            "_________________________________________________________________\n",
            "block5_conv3 (Conv2D)        (None, 14, 14, 512)       2359808   \n",
            "_________________________________________________________________\n",
            "block5_pool (MaxPooling2D)   (None, 7, 7, 512)         0         \n",
            "_________________________________________________________________\n",
            "flatten (Flatten)            (None, 25088)             0         \n",
            "_________________________________________________________________\n",
            "fc1 (Dense)                  (None, 4096)              102764544 \n",
            "_________________________________________________________________\n",
            "fc2 (Dense)                  (None, 4096)              16781312  \n",
            "_________________________________________________________________\n",
            "predictions (Dense)          (None, 1000)              4097000   \n",
            "=================================================================\n",
            "Total params: 138,357,544\n",
            "Trainable params: 138,357,544\n",
            "Non-trainable params: 0\n",
            "_________________________________________________________________\n"
          ],
          "name": "stdout"
        }
      ]
    },
    {
      "cell_type": "code",
      "metadata": {
        "colab": {
          "base_uri": "https://localhost:8080/"
        },
        "id": "ltu68nO2XOKZ",
        "outputId": "668ba153-b697-4c33-c25b-169163421665"
      },
      "source": [
        "# We will use the output of the layer prior to the final\n",
        "# classification-layer which is named fc2. This is a fully-connected (or dense) layer.\n",
        "transfer_layer = image_model.get_layer('fc2')\n",
        "\n",
        "image_model_transfer = Model(inputs=image_model.input,\n",
        "                             outputs=transfer_layer.output)\n",
        "\n",
        "transfer_values_size = K.int_shape(transfer_layer.output)[1]\n",
        "\n",
        "\n",
        "print(\"The input of the VGG16 net have dimensions:\",K.int_shape(image_model.input)[1:3])\n",
        "\n",
        "print(\"The output of the selecter layer of VGG16 net have dimensions: \", transfer_values_size)"
      ],
      "execution_count": null,
      "outputs": [
        {
          "output_type": "stream",
          "text": [
            "The input of the VGG16 net have dimensions: (224, 224)\n",
            "The output of the selecter layer of VGG16 net have dimensions:  4096\n"
          ],
          "name": "stdout"
        }
      ]
    },
    {
      "cell_type": "code",
      "metadata": {
        "id": "NoPpkkf6XQpZ"
      },
      "source": [
        "def get_transfer_values(current_dir, file_name):\n",
        "    \n",
        "    # Pre-allocate input-batch-array for images.\n",
        "    shape = (_images_per_file,) + img_size_touple + (3,)\n",
        "    \n",
        "    image_batch = np.zeros(shape=shape, dtype=np.float16)\n",
        "    \n",
        "    image_batch = get_frames(current_dir, file_name)\n",
        "      \n",
        "    # Pre-allocate output-array for transfer-values.\n",
        "    # Note that we use 16-bit floating-points to save memory.\n",
        "    shape = (_images_per_file, transfer_values_size)\n",
        "    transfer_values = np.zeros(shape=shape, dtype=np.float16)\n",
        "\n",
        "    transfer_values = \\\n",
        "            image_model_transfer.predict(image_batch)\n",
        "            \n",
        "    return transfer_values"
      ],
      "execution_count": null,
      "outputs": []
    },
    {
      "cell_type": "code",
      "metadata": {
        "id": "OLZWcutSXSPh"
      },
      "source": [
        "def proces_transfer(vid_names, in_dir, labels):\n",
        "    \n",
        "    count = 0\n",
        "    \n",
        "    tam = len(vid_names)\n",
        "    \n",
        "    # Pre-allocate input-batch-array for images.\n",
        "    shape = (_images_per_file,) + img_size_touple + (3,)\n",
        "    \n",
        "    while count<tam:\n",
        "        \n",
        "        video_name = vid_names[count]\n",
        "        \n",
        "        image_batch = np.zeros(shape=shape, dtype=np.float16)\n",
        "    \n",
        "        image_batch = get_frames(in_dir, video_name)\n",
        "        \n",
        "         # Note that we use 16-bit floating-points to save memory.\n",
        "        shape = (_images_per_file, transfer_values_size)\n",
        "        transfer_values = np.zeros(shape=shape, dtype=np.float16)\n",
        "        \n",
        "        transfer_values = \\\n",
        "            image_model_transfer.predict(image_batch)\n",
        "         \n",
        "        labels1 = labels[count]\n",
        "        \n",
        "        aux = np.ones([20,2])\n",
        "        \n",
        "        labelss = labels1*aux\n",
        "        \n",
        "        yield transfer_values, labelss\n",
        "        \n",
        "        count+=1"
      ],
      "execution_count": null,
      "outputs": []
    },
    {
      "cell_type": "code",
      "metadata": {
        "id": "0SFilj4OXUZJ"
      },
      "source": [
        "def make_files(n_files):\n",
        "    \n",
        "    gen = proces_transfer(names_training, in_dir, labels_training)\n",
        "\n",
        "    numer = 1\n",
        "\n",
        "    # Read the first chunk to get the column dtypes\n",
        "    chunk = next(gen)\n",
        "\n",
        "    row_count = chunk[0].shape[0]\n",
        "    row_count2 = chunk[1].shape[0]\n",
        "    \n",
        "    with h5py.File('prueba.h5', 'w') as f:\n",
        "    \n",
        "        # Initialize a resizable dataset to hold the output\n",
        "        maxshape = (None,) + chunk[0].shape[1:]\n",
        "        maxshape2 = (None,) + chunk[1].shape[1:]\n",
        "    \n",
        "    \n",
        "        dset = f.create_dataset('data', shape=chunk[0].shape, maxshape=maxshape,\n",
        "                                chunks=chunk[0].shape, dtype=chunk[0].dtype)\n",
        "    \n",
        "        dset2 = f.create_dataset('labels', shape=chunk[1].shape, maxshape=maxshape2,\n",
        "                                 chunks=chunk[1].shape, dtype=chunk[1].dtype)\n",
        "    \n",
        "         # Write the first chunk of rows\n",
        "        dset[:] = chunk[0]\n",
        "        dset2[:] = chunk[1]\n",
        "\n",
        "        for chunk in gen:\n",
        "            \n",
        "            if numer == n_files:\n",
        "            \n",
        "                break\n",
        "\n",
        "            # Resize the dataset to accommodate the next chunk of rows\n",
        "            dset.resize(row_count + chunk[0].shape[0], axis=0)\n",
        "            dset2.resize(row_count2 + chunk[1].shape[0], axis=0)\n",
        "\n",
        "            # Write the next chunk\n",
        "            dset[row_count:] = chunk[0]\n",
        "            dset2[row_count:] = chunk[1]\n",
        "\n",
        "            # Increment the row count\n",
        "            row_count += chunk[0].shape[0]\n",
        "            row_count2 += chunk[1].shape[0]\n",
        "            \n",
        "            print_progress(numer, n_files)\n",
        "        \n",
        "            numer += 1"
      ],
      "execution_count": null,
      "outputs": []
    },
    {
      "cell_type": "code",
      "metadata": {
        "id": "XRdFNq61XXZi"
      },
      "source": [
        "def make_files_test(n_files):\n",
        "    \n",
        "    gen = proces_transfer(names_test, in_dir, labels_test)\n",
        "\n",
        "    numer = 1\n",
        "\n",
        "    # Read the first chunk to get the column dtypes\n",
        "    chunk = next(gen)\n",
        "\n",
        "    row_count = chunk[0].shape[0]\n",
        "    row_count2 = chunk[1].shape[0]\n",
        "    \n",
        "    with h5py.File('pruebavalidation.h5', 'w') as f:\n",
        "    \n",
        "        # Initialize a resizable dataset to hold the output\n",
        "        maxshape = (None,) + chunk[0].shape[1:]\n",
        "        maxshape2 = (None,) + chunk[1].shape[1:]\n",
        "    \n",
        "    \n",
        "        dset = f.create_dataset('data', shape=chunk[0].shape, maxshape=maxshape,\n",
        "                                chunks=chunk[0].shape, dtype=chunk[0].dtype)\n",
        "    \n",
        "        dset2 = f.create_dataset('labels', shape=chunk[1].shape, maxshape=maxshape2,\n",
        "                                 chunks=chunk[1].shape, dtype=chunk[1].dtype)\n",
        "    \n",
        "         # Write the first chunk of rows\n",
        "        dset[:] = chunk[0]\n",
        "        dset2[:] = chunk[1]\n",
        "\n",
        "        for chunk in gen:\n",
        "            \n",
        "            if numer == n_files:\n",
        "            \n",
        "                break\n",
        "\n",
        "            # Resize the dataset to accommodate the next chunk of rows\n",
        "            dset.resize(row_count + chunk[0].shape[0], axis=0)\n",
        "            dset2.resize(row_count2 + chunk[1].shape[0], axis=0)\n",
        "\n",
        "            # Write the next chunk\n",
        "            dset[row_count:] = chunk[0]\n",
        "            dset2[row_count:] = chunk[1]\n",
        "\n",
        "            # Increment the row count\n",
        "            row_count += chunk[0].shape[0]\n",
        "            row_count2 += chunk[1].shape[0]\n",
        "            \n",
        "            print_progress(numer, n_files)\n",
        "        \n",
        "            numer += 1"
      ],
      "execution_count": null,
      "outputs": []
    },
    {
      "cell_type": "code",
      "metadata": {
        "id": "3AW11Ao8XbGB"
      },
      "source": [
        "training_set = int(len(names)*0.8)\n",
        "test_set = int(len(names)*0.2)\n",
        "\n",
        "names_training = names[0:training_set]\n",
        "names_test = names[training_set:]\n",
        "\n",
        "labels_training = labels[0:training_set]\n",
        "labels_test = labels[training_set:]"
      ],
      "execution_count": null,
      "outputs": []
    },
    {
      "cell_type": "code",
      "metadata": {
        "colab": {
          "base_uri": "https://localhost:8080/"
        },
        "id": "8GA4x-cEXe-x",
        "outputId": "e40e44be-b829-4bd4-d507-5cda6e857dac"
      },
      "source": [
        "make_files(training_set)"
      ],
      "execution_count": null,
      "outputs": [
        {
          "output_type": "stream",
          "text": [
            "- Progress: 99.9%"
          ],
          "name": "stdout"
        }
      ]
    },
    {
      "cell_type": "code",
      "metadata": {
        "colab": {
          "base_uri": "https://localhost:8080/"
        },
        "id": "V17Og1qSXgqJ",
        "outputId": "c97fa3e9-e565-4632-8815-074528d5fb91"
      },
      "source": [
        "make_files_test(test_set)"
      ],
      "execution_count": null,
      "outputs": [
        {
          "output_type": "stream",
          "text": [
            "- Progress: 99.5%"
          ],
          "name": "stdout"
        }
      ]
    },
    {
      "cell_type": "code",
      "metadata": {
        "id": "KqA_2vnWXxT8"
      },
      "source": [
        "def process_alldata_training():\n",
        "    \n",
        "    joint_transfer=[]\n",
        "    frames_num=20\n",
        "    count = 0\n",
        "    \n",
        "    with h5py.File('prueba.h5', 'r') as f:\n",
        "            \n",
        "        X_batch = f['data'][:]\n",
        "        y_batch = f['labels'][:]\n",
        "\n",
        "    for i in range(int(len(X_batch)/frames_num)):\n",
        "        inc = count+frames_num\n",
        "        joint_transfer.append([X_batch[count:inc],y_batch[count]])\n",
        "        count =inc\n",
        "        \n",
        "    data =[]\n",
        "    target=[]\n",
        "    \n",
        "    for i in joint_transfer:\n",
        "        data.append(i[0])\n",
        "        target.append(np.array(i[1]))\n",
        "        \n",
        "    return data, target"
      ],
      "execution_count": null,
      "outputs": []
    },
    {
      "cell_type": "code",
      "metadata": {
        "id": "h8aNPWPeXxoy"
      },
      "source": [
        "def process_alldata_test():\n",
        "    \n",
        "    joint_transfer=[]\n",
        "    frames_num=20\n",
        "    count = 0\n",
        "    \n",
        "    with h5py.File('pruebavalidation.h5', 'r') as f:\n",
        "            \n",
        "        X_batch = f['data'][:]\n",
        "        y_batch = f['labels'][:]\n",
        "\n",
        "    for i in range(int(len(X_batch)/frames_num)):\n",
        "        inc = count+frames_num\n",
        "        joint_transfer.append([X_batch[count:inc],y_batch[count]])\n",
        "        count =inc\n",
        "        \n",
        "    data =[]\n",
        "    target=[]\n",
        "    \n",
        "    for i in joint_transfer:\n",
        "        data.append(i[0])\n",
        "        target.append(np.array(i[1]))\n",
        "        \n",
        "    return data, target"
      ],
      "execution_count": null,
      "outputs": []
    },
    {
      "cell_type": "code",
      "metadata": {
        "id": "i4wDID3nXztI"
      },
      "source": [
        "data, target = process_alldata_training()"
      ],
      "execution_count": null,
      "outputs": []
    },
    {
      "cell_type": "code",
      "metadata": {
        "id": "dJV-pT07X1Mx"
      },
      "source": [
        "data_test, target_test = process_alldata_test()"
      ],
      "execution_count": null,
      "outputs": []
    },
    {
      "cell_type": "code",
      "metadata": {
        "id": "rbK_ihjMX2XR"
      },
      "source": [
        "chunk_size = 4096\n",
        "n_chunks = 20\n",
        "rnn_size = 512\n",
        "\n",
        "model = Sequential()\n",
        "model.add(LSTM(rnn_size, input_shape=(n_chunks, chunk_size)))\n",
        "model.add(Dense(1024))\n",
        "model.add(Activation('relu'))\n",
        "model.add(Dense(50))\n",
        "model.add(Activation('sigmoid'))\n",
        "model.add(Dense(2))\n",
        "model.add(Activation('softmax'))\n",
        "model.compile(loss='mean_squared_error', optimizer='adam',metrics=['accuracy'])"
      ],
      "execution_count": null,
      "outputs": []
    },
    {
      "cell_type": "code",
      "metadata": {
        "colab": {
          "base_uri": "https://localhost:8080/"
        },
        "id": "IAHejTvJX9ox",
        "outputId": "ed6a853b-e750-4caf-ed27-3756a303cb4c"
      },
      "source": [
        "epoch = 200\n",
        "batchS = 500\n",
        "\n",
        "history = model.fit(np.array(data[0:720]), np.array(target[0:720]), epochs=epoch,\n",
        "                    validation_data=(np.array(data[720:]), np.array(target[720:])), \n",
        "                    batch_size=batchS, verbose=2)"
      ],
      "execution_count": null,
      "outputs": [
        {
          "output_type": "stream",
          "text": [
            "Epoch 1/200\n",
            "2/2 - 3s - loss: 0.3246 - accuracy: 0.5042 - val_loss: 0.2715 - val_accuracy: 0.4500\n",
            "Epoch 2/200\n",
            "2/2 - 0s - loss: 0.2798 - accuracy: 0.4708 - val_loss: 0.2556 - val_accuracy: 0.5500\n",
            "Epoch 3/200\n",
            "2/2 - 0s - loss: 0.2605 - accuracy: 0.5069 - val_loss: 0.2635 - val_accuracy: 0.4500\n",
            "Epoch 4/200\n",
            "2/2 - 0s - loss: 0.2583 - accuracy: 0.4931 - val_loss: 0.2663 - val_accuracy: 0.4500\n",
            "Epoch 5/200\n",
            "2/2 - 0s - loss: 0.2556 - accuracy: 0.4931 - val_loss: 0.2466 - val_accuracy: 0.5500\n",
            "Epoch 6/200\n",
            "2/2 - 0s - loss: 0.2473 - accuracy: 0.5069 - val_loss: 0.2464 - val_accuracy: 0.5500\n",
            "Epoch 7/200\n",
            "2/2 - 0s - loss: 0.2539 - accuracy: 0.5069 - val_loss: 0.2444 - val_accuracy: 0.5500\n",
            "Epoch 8/200\n",
            "2/2 - 0s - loss: 0.2487 - accuracy: 0.5069 - val_loss: 0.2456 - val_accuracy: 0.5000\n",
            "Epoch 9/200\n",
            "2/2 - 0s - loss: 0.2467 - accuracy: 0.5611 - val_loss: 0.2502 - val_accuracy: 0.4500\n",
            "Epoch 10/200\n",
            "2/2 - 0s - loss: 0.2447 - accuracy: 0.4931 - val_loss: 0.2405 - val_accuracy: 0.8875\n",
            "Epoch 11/200\n",
            "2/2 - 0s - loss: 0.2396 - accuracy: 0.7611 - val_loss: 0.2341 - val_accuracy: 0.5500\n",
            "Epoch 12/200\n",
            "2/2 - 0s - loss: 0.2353 - accuracy: 0.5375 - val_loss: 0.2287 - val_accuracy: 0.8875\n",
            "Epoch 13/200\n",
            "2/2 - 0s - loss: 0.2275 - accuracy: 0.8722 - val_loss: 0.2220 - val_accuracy: 0.8875\n",
            "Epoch 14/200\n",
            "2/2 - 0s - loss: 0.2173 - accuracy: 0.8792 - val_loss: 0.2030 - val_accuracy: 0.8500\n",
            "Epoch 15/200\n",
            "2/2 - 0s - loss: 0.2024 - accuracy: 0.8403 - val_loss: 0.1850 - val_accuracy: 0.9000\n",
            "Epoch 16/200\n",
            "2/2 - 0s - loss: 0.1812 - accuracy: 0.8875 - val_loss: 0.1587 - val_accuracy: 0.8875\n",
            "Epoch 17/200\n",
            "2/2 - 0s - loss: 0.1561 - accuracy: 0.8778 - val_loss: 0.1395 - val_accuracy: 0.8875\n",
            "Epoch 18/200\n",
            "2/2 - 0s - loss: 0.1302 - accuracy: 0.9042 - val_loss: 0.1083 - val_accuracy: 0.9000\n",
            "Epoch 19/200\n",
            "2/2 - 0s - loss: 0.1078 - accuracy: 0.8903 - val_loss: 0.0945 - val_accuracy: 0.8875\n",
            "Epoch 20/200\n",
            "2/2 - 0s - loss: 0.0917 - accuracy: 0.8972 - val_loss: 0.0916 - val_accuracy: 0.8875\n",
            "Epoch 21/200\n",
            "2/2 - 0s - loss: 0.0847 - accuracy: 0.9014 - val_loss: 0.1064 - val_accuracy: 0.8625\n",
            "Epoch 22/200\n",
            "2/2 - 0s - loss: 0.0834 - accuracy: 0.8917 - val_loss: 0.0822 - val_accuracy: 0.9000\n",
            "Epoch 23/200\n",
            "2/2 - 0s - loss: 0.0880 - accuracy: 0.8889 - val_loss: 0.0980 - val_accuracy: 0.8875\n",
            "Epoch 24/200\n",
            "2/2 - 0s - loss: 0.0780 - accuracy: 0.8986 - val_loss: 0.0858 - val_accuracy: 0.8875\n",
            "Epoch 25/200\n",
            "2/2 - 0s - loss: 0.0744 - accuracy: 0.9097 - val_loss: 0.0903 - val_accuracy: 0.9000\n",
            "Epoch 26/200\n",
            "2/2 - 0s - loss: 0.0721 - accuracy: 0.9083 - val_loss: 0.0925 - val_accuracy: 0.9000\n",
            "Epoch 27/200\n",
            "2/2 - 0s - loss: 0.0712 - accuracy: 0.9097 - val_loss: 0.0894 - val_accuracy: 0.8875\n",
            "Epoch 28/200\n",
            "2/2 - 0s - loss: 0.0704 - accuracy: 0.9111 - val_loss: 0.0976 - val_accuracy: 0.8875\n",
            "Epoch 29/200\n",
            "2/2 - 0s - loss: 0.0707 - accuracy: 0.9125 - val_loss: 0.0886 - val_accuracy: 0.8875\n",
            "Epoch 30/200\n",
            "2/2 - 0s - loss: 0.0724 - accuracy: 0.9097 - val_loss: 0.0981 - val_accuracy: 0.8875\n",
            "Epoch 31/200\n",
            "2/2 - 0s - loss: 0.0691 - accuracy: 0.9111 - val_loss: 0.0935 - val_accuracy: 0.9000\n",
            "Epoch 32/200\n",
            "2/2 - 0s - loss: 0.0653 - accuracy: 0.9194 - val_loss: 0.0921 - val_accuracy: 0.8875\n",
            "Epoch 33/200\n",
            "2/2 - 0s - loss: 0.0639 - accuracy: 0.9194 - val_loss: 0.0969 - val_accuracy: 0.8875\n",
            "Epoch 34/200\n",
            "2/2 - 0s - loss: 0.0647 - accuracy: 0.9194 - val_loss: 0.0909 - val_accuracy: 0.8875\n",
            "Epoch 35/200\n",
            "2/2 - 0s - loss: 0.0633 - accuracy: 0.9250 - val_loss: 0.0891 - val_accuracy: 0.8875\n",
            "Epoch 36/200\n",
            "2/2 - 0s - loss: 0.0655 - accuracy: 0.9181 - val_loss: 0.1090 - val_accuracy: 0.8875\n",
            "Epoch 37/200\n",
            "2/2 - 0s - loss: 0.0694 - accuracy: 0.9208 - val_loss: 0.0837 - val_accuracy: 0.8875\n",
            "Epoch 38/200\n",
            "2/2 - 0s - loss: 0.0687 - accuracy: 0.9153 - val_loss: 0.0958 - val_accuracy: 0.8875\n",
            "Epoch 39/200\n",
            "2/2 - 0s - loss: 0.0627 - accuracy: 0.9250 - val_loss: 0.0914 - val_accuracy: 0.9000\n",
            "Epoch 40/200\n",
            "2/2 - 0s - loss: 0.0599 - accuracy: 0.9292 - val_loss: 0.0915 - val_accuracy: 0.9000\n",
            "Epoch 41/200\n",
            "2/2 - 0s - loss: 0.0573 - accuracy: 0.9333 - val_loss: 0.0997 - val_accuracy: 0.8875\n",
            "Epoch 42/200\n",
            "2/2 - 0s - loss: 0.0645 - accuracy: 0.9181 - val_loss: 0.0899 - val_accuracy: 0.8875\n",
            "Epoch 43/200\n",
            "2/2 - 0s - loss: 0.0580 - accuracy: 0.9319 - val_loss: 0.0955 - val_accuracy: 0.8875\n",
            "Epoch 44/200\n",
            "2/2 - 0s - loss: 0.0556 - accuracy: 0.9306 - val_loss: 0.0861 - val_accuracy: 0.8875\n",
            "Epoch 45/200\n",
            "2/2 - 0s - loss: 0.0586 - accuracy: 0.9222 - val_loss: 0.1012 - val_accuracy: 0.8875\n",
            "Epoch 46/200\n",
            "2/2 - 0s - loss: 0.0601 - accuracy: 0.9319 - val_loss: 0.0795 - val_accuracy: 0.9000\n",
            "Epoch 47/200\n",
            "2/2 - 0s - loss: 0.0745 - accuracy: 0.9042 - val_loss: 0.0913 - val_accuracy: 0.9000\n",
            "Epoch 48/200\n",
            "2/2 - 0s - loss: 0.0656 - accuracy: 0.9181 - val_loss: 0.0866 - val_accuracy: 0.8875\n",
            "Epoch 49/200\n",
            "2/2 - 0s - loss: 0.0685 - accuracy: 0.9181 - val_loss: 0.0836 - val_accuracy: 0.8875\n",
            "Epoch 50/200\n",
            "2/2 - 0s - loss: 0.0636 - accuracy: 0.9167 - val_loss: 0.1170 - val_accuracy: 0.8875\n",
            "Epoch 51/200\n",
            "2/2 - 0s - loss: 0.0664 - accuracy: 0.9139 - val_loss: 0.0791 - val_accuracy: 0.9000\n",
            "Epoch 52/200\n",
            "2/2 - 0s - loss: 0.0807 - accuracy: 0.8958 - val_loss: 0.0911 - val_accuracy: 0.9000\n",
            "Epoch 53/200\n",
            "2/2 - 0s - loss: 0.0549 - accuracy: 0.9319 - val_loss: 0.1304 - val_accuracy: 0.8375\n",
            "Epoch 54/200\n",
            "2/2 - 0s - loss: 0.0797 - accuracy: 0.8972 - val_loss: 0.0802 - val_accuracy: 0.9000\n",
            "Epoch 55/200\n",
            "2/2 - 0s - loss: 0.0862 - accuracy: 0.8889 - val_loss: 0.0845 - val_accuracy: 0.8875\n",
            "Epoch 56/200\n",
            "2/2 - 0s - loss: 0.0597 - accuracy: 0.9278 - val_loss: 0.1229 - val_accuracy: 0.8500\n",
            "Epoch 57/200\n",
            "2/2 - 0s - loss: 0.0715 - accuracy: 0.9097 - val_loss: 0.0800 - val_accuracy: 0.8875\n",
            "Epoch 58/200\n",
            "2/2 - 0s - loss: 0.0677 - accuracy: 0.9153 - val_loss: 0.0837 - val_accuracy: 0.8875\n",
            "Epoch 59/200\n",
            "2/2 - 0s - loss: 0.0564 - accuracy: 0.9319 - val_loss: 0.1179 - val_accuracy: 0.8750\n",
            "Epoch 60/200\n",
            "2/2 - 0s - loss: 0.0686 - accuracy: 0.9125 - val_loss: 0.0831 - val_accuracy: 0.8875\n",
            "Epoch 61/200\n",
            "2/2 - 0s - loss: 0.0646 - accuracy: 0.9194 - val_loss: 0.0792 - val_accuracy: 0.8875\n",
            "Epoch 62/200\n",
            "2/2 - 0s - loss: 0.0622 - accuracy: 0.9208 - val_loss: 0.1147 - val_accuracy: 0.8875\n",
            "Epoch 63/200\n",
            "2/2 - 0s - loss: 0.0721 - accuracy: 0.9083 - val_loss: 0.0882 - val_accuracy: 0.9000\n",
            "Epoch 64/200\n",
            "2/2 - 0s - loss: 0.0596 - accuracy: 0.9264 - val_loss: 0.0788 - val_accuracy: 0.9000\n",
            "Epoch 65/200\n",
            "2/2 - 0s - loss: 0.0709 - accuracy: 0.9042 - val_loss: 0.0974 - val_accuracy: 0.8875\n",
            "Epoch 66/200\n",
            "2/2 - 0s - loss: 0.0629 - accuracy: 0.9236 - val_loss: 0.0981 - val_accuracy: 0.8875\n",
            "Epoch 67/200\n",
            "2/2 - 0s - loss: 0.0560 - accuracy: 0.9375 - val_loss: 0.0794 - val_accuracy: 0.8875\n",
            "Epoch 68/200\n",
            "2/2 - 0s - loss: 0.0639 - accuracy: 0.9208 - val_loss: 0.0873 - val_accuracy: 0.9000\n",
            "Epoch 69/200\n",
            "2/2 - 0s - loss: 0.0531 - accuracy: 0.9403 - val_loss: 0.1035 - val_accuracy: 0.8875\n",
            "Epoch 70/200\n",
            "2/2 - 0s - loss: 0.0579 - accuracy: 0.9319 - val_loss: 0.0885 - val_accuracy: 0.9000\n",
            "Epoch 71/200\n",
            "2/2 - 0s - loss: 0.0524 - accuracy: 0.9375 - val_loss: 0.0844 - val_accuracy: 0.9000\n",
            "Epoch 72/200\n",
            "2/2 - 0s - loss: 0.0539 - accuracy: 0.9375 - val_loss: 0.0939 - val_accuracy: 0.9000\n",
            "Epoch 73/200\n",
            "2/2 - 0s - loss: 0.0518 - accuracy: 0.9361 - val_loss: 0.0968 - val_accuracy: 0.8875\n",
            "Epoch 74/200\n",
            "2/2 - 0s - loss: 0.0532 - accuracy: 0.9375 - val_loss: 0.0880 - val_accuracy: 0.9000\n",
            "Epoch 75/200\n",
            "2/2 - 0s - loss: 0.0512 - accuracy: 0.9375 - val_loss: 0.0902 - val_accuracy: 0.9000\n",
            "Epoch 76/200\n",
            "2/2 - 0s - loss: 0.0495 - accuracy: 0.9444 - val_loss: 0.0970 - val_accuracy: 0.8875\n",
            "Epoch 77/200\n",
            "2/2 - 0s - loss: 0.0521 - accuracy: 0.9389 - val_loss: 0.0941 - val_accuracy: 0.9000\n",
            "Epoch 78/200\n",
            "2/2 - 0s - loss: 0.0496 - accuracy: 0.9403 - val_loss: 0.0914 - val_accuracy: 0.9000\n",
            "Epoch 79/200\n",
            "2/2 - 0s - loss: 0.0494 - accuracy: 0.9417 - val_loss: 0.0877 - val_accuracy: 0.9000\n",
            "Epoch 80/200\n",
            "2/2 - 0s - loss: 0.0505 - accuracy: 0.9417 - val_loss: 0.0880 - val_accuracy: 0.9000\n",
            "Epoch 81/200\n",
            "2/2 - 0s - loss: 0.0486 - accuracy: 0.9444 - val_loss: 0.1006 - val_accuracy: 0.8875\n",
            "Epoch 82/200\n",
            "2/2 - 0s - loss: 0.0520 - accuracy: 0.9431 - val_loss: 0.0923 - val_accuracy: 0.9000\n",
            "Epoch 83/200\n",
            "2/2 - 0s - loss: 0.0471 - accuracy: 0.9458 - val_loss: 0.0865 - val_accuracy: 0.9000\n",
            "Epoch 84/200\n",
            "2/2 - 0s - loss: 0.0498 - accuracy: 0.9417 - val_loss: 0.0919 - val_accuracy: 0.9000\n",
            "Epoch 85/200\n",
            "2/2 - 0s - loss: 0.0477 - accuracy: 0.9444 - val_loss: 0.0975 - val_accuracy: 0.8875\n",
            "Epoch 86/200\n",
            "2/2 - 0s - loss: 0.0503 - accuracy: 0.9417 - val_loss: 0.0879 - val_accuracy: 0.9000\n",
            "Epoch 87/200\n",
            "2/2 - 0s - loss: 0.0469 - accuracy: 0.9431 - val_loss: 0.0937 - val_accuracy: 0.9000\n",
            "Epoch 88/200\n",
            "2/2 - 0s - loss: 0.0463 - accuracy: 0.9472 - val_loss: 0.0910 - val_accuracy: 0.9000\n",
            "Epoch 89/200\n",
            "2/2 - 0s - loss: 0.0456 - accuracy: 0.9472 - val_loss: 0.0890 - val_accuracy: 0.9000\n",
            "Epoch 90/200\n",
            "2/2 - 0s - loss: 0.0455 - accuracy: 0.9472 - val_loss: 0.0940 - val_accuracy: 0.9000\n",
            "Epoch 91/200\n",
            "2/2 - 0s - loss: 0.0451 - accuracy: 0.9486 - val_loss: 0.0899 - val_accuracy: 0.9000\n",
            "Epoch 92/200\n",
            "2/2 - 0s - loss: 0.0469 - accuracy: 0.9444 - val_loss: 0.0945 - val_accuracy: 0.8875\n",
            "Epoch 93/200\n",
            "2/2 - 0s - loss: 0.0480 - accuracy: 0.9444 - val_loss: 0.0851 - val_accuracy: 0.9000\n",
            "Epoch 94/200\n",
            "2/2 - 0s - loss: 0.0516 - accuracy: 0.9403 - val_loss: 0.0834 - val_accuracy: 0.8750\n",
            "Epoch 95/200\n",
            "2/2 - 0s - loss: 0.0497 - accuracy: 0.9431 - val_loss: 0.1069 - val_accuracy: 0.8750\n",
            "Epoch 96/200\n",
            "2/2 - 0s - loss: 0.0502 - accuracy: 0.9431 - val_loss: 0.0835 - val_accuracy: 0.8750\n",
            "Epoch 97/200\n",
            "2/2 - 0s - loss: 0.0520 - accuracy: 0.9347 - val_loss: 0.0867 - val_accuracy: 0.9000\n",
            "Epoch 98/200\n",
            "2/2 - 0s - loss: 0.0460 - accuracy: 0.9500 - val_loss: 0.0961 - val_accuracy: 0.8875\n",
            "Epoch 99/200\n",
            "2/2 - 0s - loss: 0.0438 - accuracy: 0.9500 - val_loss: 0.0864 - val_accuracy: 0.9000\n",
            "Epoch 100/200\n",
            "2/2 - 0s - loss: 0.0458 - accuracy: 0.9472 - val_loss: 0.0914 - val_accuracy: 0.9000\n",
            "Epoch 101/200\n",
            "2/2 - 0s - loss: 0.0422 - accuracy: 0.9514 - val_loss: 0.0927 - val_accuracy: 0.9000\n",
            "Epoch 102/200\n",
            "2/2 - 0s - loss: 0.0423 - accuracy: 0.9542 - val_loss: 0.0888 - val_accuracy: 0.9000\n",
            "Epoch 103/200\n",
            "2/2 - 0s - loss: 0.0425 - accuracy: 0.9486 - val_loss: 0.0903 - val_accuracy: 0.9000\n",
            "Epoch 104/200\n",
            "2/2 - 0s - loss: 0.0411 - accuracy: 0.9542 - val_loss: 0.0969 - val_accuracy: 0.8875\n",
            "Epoch 105/200\n",
            "2/2 - 0s - loss: 0.0425 - accuracy: 0.9542 - val_loss: 0.0860 - val_accuracy: 0.9000\n",
            "Epoch 106/200\n",
            "2/2 - 0s - loss: 0.0450 - accuracy: 0.9472 - val_loss: 0.0914 - val_accuracy: 0.9000\n",
            "Epoch 107/200\n",
            "2/2 - 0s - loss: 0.0414 - accuracy: 0.9569 - val_loss: 0.0928 - val_accuracy: 0.9000\n",
            "Epoch 108/200\n",
            "2/2 - 0s - loss: 0.0419 - accuracy: 0.9556 - val_loss: 0.0880 - val_accuracy: 0.9000\n",
            "Epoch 109/200\n",
            "2/2 - 0s - loss: 0.0425 - accuracy: 0.9528 - val_loss: 0.0912 - val_accuracy: 0.9000\n",
            "Epoch 110/200\n",
            "2/2 - 0s - loss: 0.0397 - accuracy: 0.9556 - val_loss: 0.0882 - val_accuracy: 0.9000\n",
            "Epoch 111/200\n",
            "2/2 - 0s - loss: 0.0405 - accuracy: 0.9542 - val_loss: 0.0940 - val_accuracy: 0.9000\n",
            "Epoch 112/200\n",
            "2/2 - 0s - loss: 0.0400 - accuracy: 0.9556 - val_loss: 0.0898 - val_accuracy: 0.9000\n",
            "Epoch 113/200\n",
            "2/2 - 0s - loss: 0.0397 - accuracy: 0.9569 - val_loss: 0.0889 - val_accuracy: 0.9000\n",
            "Epoch 114/200\n",
            "2/2 - 0s - loss: 0.0396 - accuracy: 0.9556 - val_loss: 0.0948 - val_accuracy: 0.9000\n",
            "Epoch 115/200\n",
            "2/2 - 0s - loss: 0.0399 - accuracy: 0.9583 - val_loss: 0.0883 - val_accuracy: 0.8875\n",
            "Epoch 116/200\n",
            "2/2 - 0s - loss: 0.0409 - accuracy: 0.9514 - val_loss: 0.0923 - val_accuracy: 0.9000\n",
            "Epoch 117/200\n",
            "2/2 - 0s - loss: 0.0391 - accuracy: 0.9556 - val_loss: 0.0900 - val_accuracy: 0.9000\n",
            "Epoch 118/200\n",
            "2/2 - 0s - loss: 0.0387 - accuracy: 0.9569 - val_loss: 0.0893 - val_accuracy: 0.8875\n",
            "Epoch 119/200\n",
            "2/2 - 0s - loss: 0.0382 - accuracy: 0.9583 - val_loss: 0.0999 - val_accuracy: 0.8875\n",
            "Epoch 120/200\n",
            "2/2 - 0s - loss: 0.0415 - accuracy: 0.9528 - val_loss: 0.0878 - val_accuracy: 0.8875\n",
            "Epoch 121/200\n",
            "2/2 - 0s - loss: 0.0402 - accuracy: 0.9528 - val_loss: 0.1015 - val_accuracy: 0.8875\n",
            "Epoch 122/200\n",
            "2/2 - 0s - loss: 0.0431 - accuracy: 0.9528 - val_loss: 0.0888 - val_accuracy: 0.8875\n",
            "Epoch 123/200\n",
            "2/2 - 0s - loss: 0.0389 - accuracy: 0.9542 - val_loss: 0.0974 - val_accuracy: 0.8875\n",
            "Epoch 124/200\n",
            "2/2 - 0s - loss: 0.0380 - accuracy: 0.9597 - val_loss: 0.0881 - val_accuracy: 0.8875\n",
            "Epoch 125/200\n",
            "2/2 - 0s - loss: 0.0402 - accuracy: 0.9528 - val_loss: 0.0929 - val_accuracy: 0.9000\n",
            "Epoch 126/200\n",
            "2/2 - 0s - loss: 0.0387 - accuracy: 0.9583 - val_loss: 0.0860 - val_accuracy: 0.8875\n",
            "Epoch 127/200\n",
            "2/2 - 0s - loss: 0.0435 - accuracy: 0.9500 - val_loss: 0.0921 - val_accuracy: 0.9000\n",
            "Epoch 128/200\n",
            "2/2 - 0s - loss: 0.0368 - accuracy: 0.9583 - val_loss: 0.0940 - val_accuracy: 0.9000\n",
            "Epoch 129/200\n",
            "2/2 - 0s - loss: 0.0375 - accuracy: 0.9611 - val_loss: 0.0895 - val_accuracy: 0.8875\n",
            "Epoch 130/200\n",
            "2/2 - 0s - loss: 0.0376 - accuracy: 0.9583 - val_loss: 0.1003 - val_accuracy: 0.8875\n",
            "Epoch 131/200\n",
            "2/2 - 0s - loss: 0.0404 - accuracy: 0.9569 - val_loss: 0.0878 - val_accuracy: 0.8750\n",
            "Epoch 132/200\n",
            "2/2 - 0s - loss: 0.0419 - accuracy: 0.9528 - val_loss: 0.0948 - val_accuracy: 0.8875\n",
            "Epoch 133/200\n",
            "2/2 - 0s - loss: 0.0362 - accuracy: 0.9611 - val_loss: 0.0920 - val_accuracy: 0.8875\n",
            "Epoch 134/200\n",
            "2/2 - 0s - loss: 0.0350 - accuracy: 0.9625 - val_loss: 0.1099 - val_accuracy: 0.8750\n",
            "Epoch 135/200\n",
            "2/2 - 0s - loss: 0.0436 - accuracy: 0.9472 - val_loss: 0.0826 - val_accuracy: 0.9000\n",
            "Epoch 136/200\n",
            "2/2 - 0s - loss: 0.0464 - accuracy: 0.9472 - val_loss: 0.1179 - val_accuracy: 0.8750\n",
            "Epoch 137/200\n",
            "2/2 - 0s - loss: 0.0514 - accuracy: 0.9292 - val_loss: 0.0810 - val_accuracy: 0.9000\n",
            "Epoch 138/200\n",
            "2/2 - 0s - loss: 0.0693 - accuracy: 0.9167 - val_loss: 0.1083 - val_accuracy: 0.8750\n",
            "Epoch 139/200\n",
            "2/2 - 0s - loss: 0.0568 - accuracy: 0.9250 - val_loss: 0.0803 - val_accuracy: 0.8875\n",
            "Epoch 140/200\n",
            "2/2 - 0s - loss: 0.0804 - accuracy: 0.9056 - val_loss: 0.0804 - val_accuracy: 0.8875\n",
            "Epoch 141/200\n",
            "2/2 - 0s - loss: 0.0573 - accuracy: 0.9306 - val_loss: 0.1708 - val_accuracy: 0.7625\n",
            "Epoch 142/200\n",
            "2/2 - 0s - loss: 0.0964 - accuracy: 0.8764 - val_loss: 0.0798 - val_accuracy: 0.9000\n",
            "Epoch 143/200\n",
            "2/2 - 0s - loss: 0.0710 - accuracy: 0.9125 - val_loss: 0.0822 - val_accuracy: 0.8750\n",
            "Epoch 144/200\n",
            "2/2 - 0s - loss: 0.0485 - accuracy: 0.9403 - val_loss: 0.1035 - val_accuracy: 0.8750\n",
            "Epoch 145/200\n",
            "2/2 - 0s - loss: 0.0468 - accuracy: 0.9486 - val_loss: 0.0796 - val_accuracy: 0.8875\n",
            "Epoch 146/200\n",
            "2/2 - 0s - loss: 0.0515 - accuracy: 0.9375 - val_loss: 0.0870 - val_accuracy: 0.9000\n",
            "Epoch 147/200\n",
            "2/2 - 0s - loss: 0.0396 - accuracy: 0.9556 - val_loss: 0.0987 - val_accuracy: 0.8875\n",
            "Epoch 148/200\n",
            "2/2 - 0s - loss: 0.0430 - accuracy: 0.9542 - val_loss: 0.0892 - val_accuracy: 0.9000\n",
            "Epoch 149/200\n",
            "2/2 - 0s - loss: 0.0385 - accuracy: 0.9583 - val_loss: 0.0892 - val_accuracy: 0.9000\n",
            "Epoch 150/200\n",
            "2/2 - 0s - loss: 0.0384 - accuracy: 0.9583 - val_loss: 0.0924 - val_accuracy: 0.9000\n",
            "Epoch 151/200\n",
            "2/2 - 0s - loss: 0.0381 - accuracy: 0.9583 - val_loss: 0.0910 - val_accuracy: 0.9000\n",
            "Epoch 152/200\n",
            "2/2 - 0s - loss: 0.0376 - accuracy: 0.9597 - val_loss: 0.0917 - val_accuracy: 0.9000\n",
            "Epoch 153/200\n",
            "2/2 - 0s - loss: 0.0378 - accuracy: 0.9597 - val_loss: 0.0906 - val_accuracy: 0.9000\n",
            "Epoch 154/200\n",
            "2/2 - 0s - loss: 0.0371 - accuracy: 0.9569 - val_loss: 0.0898 - val_accuracy: 0.9000\n",
            "Epoch 155/200\n",
            "2/2 - 0s - loss: 0.0381 - accuracy: 0.9583 - val_loss: 0.0926 - val_accuracy: 0.9000\n",
            "Epoch 156/200\n",
            "2/2 - 0s - loss: 0.0364 - accuracy: 0.9611 - val_loss: 0.0932 - val_accuracy: 0.9000\n",
            "Epoch 157/200\n",
            "2/2 - 0s - loss: 0.0367 - accuracy: 0.9597 - val_loss: 0.0919 - val_accuracy: 0.9000\n",
            "Epoch 158/200\n",
            "2/2 - 0s - loss: 0.0364 - accuracy: 0.9597 - val_loss: 0.0917 - val_accuracy: 0.9000\n",
            "Epoch 159/200\n",
            "2/2 - 0s - loss: 0.0359 - accuracy: 0.9625 - val_loss: 0.0979 - val_accuracy: 0.8875\n",
            "Epoch 160/200\n",
            "2/2 - 0s - loss: 0.0369 - accuracy: 0.9569 - val_loss: 0.0934 - val_accuracy: 0.9000\n",
            "Epoch 161/200\n",
            "2/2 - 0s - loss: 0.0356 - accuracy: 0.9625 - val_loss: 0.0923 - val_accuracy: 0.8875\n",
            "Epoch 162/200\n",
            "2/2 - 0s - loss: 0.0358 - accuracy: 0.9583 - val_loss: 0.0956 - val_accuracy: 0.9000\n",
            "Epoch 163/200\n",
            "2/2 - 0s - loss: 0.0351 - accuracy: 0.9611 - val_loss: 0.0937 - val_accuracy: 0.8875\n",
            "Epoch 164/200\n",
            "2/2 - 0s - loss: 0.0348 - accuracy: 0.9625 - val_loss: 0.0942 - val_accuracy: 0.8875\n",
            "Epoch 165/200\n",
            "2/2 - 0s - loss: 0.0347 - accuracy: 0.9625 - val_loss: 0.0951 - val_accuracy: 0.9000\n",
            "Epoch 166/200\n",
            "2/2 - 0s - loss: 0.0344 - accuracy: 0.9625 - val_loss: 0.0949 - val_accuracy: 0.8875\n",
            "Epoch 167/200\n",
            "2/2 - 0s - loss: 0.0346 - accuracy: 0.9611 - val_loss: 0.0953 - val_accuracy: 0.8875\n",
            "Epoch 168/200\n",
            "2/2 - 0s - loss: 0.0347 - accuracy: 0.9639 - val_loss: 0.0971 - val_accuracy: 0.8875\n",
            "Epoch 169/200\n",
            "2/2 - 0s - loss: 0.0337 - accuracy: 0.9639 - val_loss: 0.1006 - val_accuracy: 0.8875\n",
            "Epoch 170/200\n",
            "2/2 - 0s - loss: 0.0340 - accuracy: 0.9653 - val_loss: 0.0909 - val_accuracy: 0.8875\n",
            "Epoch 171/200\n",
            "2/2 - 0s - loss: 0.0381 - accuracy: 0.9583 - val_loss: 0.0992 - val_accuracy: 0.8875\n",
            "Epoch 172/200\n",
            "2/2 - 0s - loss: 0.0356 - accuracy: 0.9625 - val_loss: 0.0897 - val_accuracy: 0.8875\n",
            "Epoch 173/200\n",
            "2/2 - 0s - loss: 0.0440 - accuracy: 0.9472 - val_loss: 0.1030 - val_accuracy: 0.8875\n",
            "Epoch 174/200\n",
            "2/2 - 0s - loss: 0.0448 - accuracy: 0.9458 - val_loss: 0.0883 - val_accuracy: 0.8875\n",
            "Epoch 175/200\n",
            "2/2 - 0s - loss: 0.0508 - accuracy: 0.9319 - val_loss: 0.0971 - val_accuracy: 0.8750\n",
            "Epoch 176/200\n",
            "2/2 - 0s - loss: 0.0535 - accuracy: 0.9347 - val_loss: 0.0945 - val_accuracy: 0.8875\n",
            "Epoch 177/200\n",
            "2/2 - 0s - loss: 0.0430 - accuracy: 0.9486 - val_loss: 0.0807 - val_accuracy: 0.9000\n",
            "Epoch 178/200\n",
            "2/2 - 0s - loss: 0.0482 - accuracy: 0.9458 - val_loss: 0.1189 - val_accuracy: 0.8625\n",
            "Epoch 179/200\n",
            "2/2 - 0s - loss: 0.0556 - accuracy: 0.9278 - val_loss: 0.0812 - val_accuracy: 0.9000\n",
            "Epoch 180/200\n",
            "2/2 - 0s - loss: 0.0507 - accuracy: 0.9361 - val_loss: 0.0940 - val_accuracy: 0.8875\n",
            "Epoch 181/200\n",
            "2/2 - 0s - loss: 0.0359 - accuracy: 0.9611 - val_loss: 0.1011 - val_accuracy: 0.8875\n",
            "Epoch 182/200\n",
            "2/2 - 0s - loss: 0.0393 - accuracy: 0.9556 - val_loss: 0.0837 - val_accuracy: 0.8875\n",
            "Epoch 183/200\n",
            "2/2 - 0s - loss: 0.0440 - accuracy: 0.9486 - val_loss: 0.0957 - val_accuracy: 0.8875\n",
            "Epoch 184/200\n",
            "2/2 - 0s - loss: 0.0384 - accuracy: 0.9569 - val_loss: 0.0950 - val_accuracy: 0.8875\n",
            "Epoch 185/200\n",
            "2/2 - 0s - loss: 0.0354 - accuracy: 0.9597 - val_loss: 0.0873 - val_accuracy: 0.8750\n",
            "Epoch 186/200\n",
            "2/2 - 0s - loss: 0.0393 - accuracy: 0.9556 - val_loss: 0.1024 - val_accuracy: 0.8875\n",
            "Epoch 187/200\n",
            "2/2 - 0s - loss: 0.0381 - accuracy: 0.9569 - val_loss: 0.0956 - val_accuracy: 0.8875\n",
            "Epoch 188/200\n",
            "2/2 - 0s - loss: 0.0338 - accuracy: 0.9611 - val_loss: 0.0919 - val_accuracy: 0.8875\n",
            "Epoch 189/200\n",
            "2/2 - 0s - loss: 0.0349 - accuracy: 0.9639 - val_loss: 0.0989 - val_accuracy: 0.8875\n",
            "Epoch 190/200\n",
            "2/2 - 0s - loss: 0.0345 - accuracy: 0.9625 - val_loss: 0.0989 - val_accuracy: 0.8875\n",
            "Epoch 191/200\n",
            "2/2 - 0s - loss: 0.0333 - accuracy: 0.9639 - val_loss: 0.0922 - val_accuracy: 0.8750\n",
            "Epoch 192/200\n",
            "2/2 - 0s - loss: 0.0362 - accuracy: 0.9625 - val_loss: 0.0962 - val_accuracy: 0.8750\n",
            "Epoch 193/200\n",
            "2/2 - 0s - loss: 0.0338 - accuracy: 0.9625 - val_loss: 0.0997 - val_accuracy: 0.8875\n",
            "Epoch 194/200\n",
            "2/2 - 0s - loss: 0.0332 - accuracy: 0.9667 - val_loss: 0.0950 - val_accuracy: 0.8875\n",
            "Epoch 195/200\n",
            "2/2 - 0s - loss: 0.0339 - accuracy: 0.9639 - val_loss: 0.0986 - val_accuracy: 0.8875\n",
            "Epoch 196/200\n",
            "2/2 - 0s - loss: 0.0324 - accuracy: 0.9667 - val_loss: 0.1036 - val_accuracy: 0.8875\n",
            "Epoch 197/200\n",
            "2/2 - 0s - loss: 0.0361 - accuracy: 0.9611 - val_loss: 0.0982 - val_accuracy: 0.8750\n",
            "Epoch 198/200\n",
            "2/2 - 0s - loss: 0.0325 - accuracy: 0.9639 - val_loss: 0.0984 - val_accuracy: 0.8750\n",
            "Epoch 199/200\n",
            "2/2 - 0s - loss: 0.0323 - accuracy: 0.9653 - val_loss: 0.0999 - val_accuracy: 0.8750\n",
            "Epoch 200/200\n",
            "2/2 - 0s - loss: 0.0325 - accuracy: 0.9653 - val_loss: 0.0999 - val_accuracy: 0.8750\n"
          ],
          "name": "stdout"
        }
      ]
    },
    {
      "cell_type": "code",
      "metadata": {
        "id": "KhAcKetaX_N7",
        "colab": {
          "base_uri": "https://localhost:8080/"
        },
        "outputId": "3716bf89-2ba6-4ebd-ee6d-5d0ad0b250a5"
      },
      "source": [
        "result = model.evaluate(np.array(data_test), np.array(target_test))"
      ],
      "execution_count": null,
      "outputs": [
        {
          "output_type": "stream",
          "text": [
            "7/7 [==============================] - 0s 7ms/step - loss: 0.0560 - accuracy: 0.9400\n"
          ],
          "name": "stdout"
        }
      ]
    },
    {
      "cell_type": "code",
      "metadata": {
        "id": "vDgwUxJqYCx5",
        "colab": {
          "base_uri": "https://localhost:8080/"
        },
        "outputId": "2ca93e58-d2e2-4959-9f09-4c1298b17fa9"
      },
      "source": [
        "for name, value in zip(model.metrics_names, result):\n",
        "    print(name, value)"
      ],
      "execution_count": null,
      "outputs": [
        {
          "output_type": "stream",
          "text": [
            "loss 0.05599842220544815\n",
            "accuracy 0.9399999976158142\n"
          ],
          "name": "stdout"
        }
      ]
    },
    {
      "cell_type": "code",
      "metadata": {
        "id": "LQpAWe9FYEPh",
        "colab": {
          "base_uri": "https://localhost:8080/",
          "height": 641
        },
        "outputId": "694d3ef3-7b24-484b-83f9-80571a8f50bc"
      },
      "source": [
        "plt.plot(history.history['accuracy'])\n",
        "plt.plot(history.history['val_accuracy'])\n",
        "plt.title('model accuracy')\n",
        "plt.ylabel('accuracy')\n",
        "plt.xlabel('epoch')\n",
        "plt.legend(['train', 'validation'], loc='upper left')\n",
        "plt.savefig('destination_path.eps', format='eps', dpi=1000)\n",
        "plt.show()\n",
        "# summarize history for loss\n",
        "plt.plot(history.history['loss'])\n",
        "plt.plot(history.history['val_loss'])\n",
        "plt.title('model loss')\n",
        "plt.ylabel('loss')\n",
        "plt.xlabel('epoch')\n",
        "plt.legend(['train', 'validation'], loc='upper left')\n",
        "plt.savefig('destination_path1.eps', format='eps', dpi=1000)\n",
        "plt.show()"
      ],
      "execution_count": null,
      "outputs": [
        {
          "output_type": "stream",
          "text": [
            "The PostScript backend does not support transparency; partially transparent artists will be rendered opaque.\n",
            "The PostScript backend does not support transparency; partially transparent artists will be rendered opaque.\n"
          ],
          "name": "stderr"
        },
        {
          "output_type": "display_data",
          "data": {
            "image/png": "[encoded data removed]",
            "text/plain": [
              "<Figure size 432x288 with 1 Axes>"
            ]
          },
          "metadata": {
            "tags": [],
            "needs_background": "light"
          }
        },
        {
          "output_type": "stream",
          "text": [
            "The PostScript backend does not support transparency; partially transparent artists will be rendered opaque.\n",
            "The PostScript backend does not support transparency; partially transparent artists will be rendered opaque.\n"
          ],
          "name": "stderr"
        },
        {
          "output_type": "display_data",
          "data": {
            "image/png": "[encoded data removed]",
            "text/plain": [
              "<Figure size 432x288 with 1 Axes>"
            ]
          },
          "metadata": {
            "tags": [],
            "needs_background": "light"
          }
        }
      ]
    },
    {
      "cell_type": "code",
      "metadata": {
        "id": "NvjMvj8XN2df",
        "colab": {
          "base_uri": "https://localhost:8080/"
        },
        "outputId": "dbd8bfbe-0a48-4c9e-f177-a780e23b9edf"
      },
      "source": [
        "print(target_test)"
      ],
      "execution_count": null,
      "outputs": [
        {
          "output_type": "stream",
          "text": [
            "[array([0., 1.]), array([1., 0.]), array([0., 1.]), array([0., 1.]), array([1., 0.]), array([0., 1.]), array([1., 0.]), array([0., 1.]), array([1., 0.]), array([1., 0.]), array([1., 0.]), array([1., 0.]), array([0., 1.]), array([1., 0.]), array([0., 1.]), array([0., 1.]), array([0., 1.]), array([0., 1.]), array([0., 1.]), array([1., 0.]), array([0., 1.]), array([0., 1.]), array([0., 1.]), array([1., 0.]), array([1., 0.]), array([0., 1.]), array([1., 0.]), array([0., 1.]), array([1., 0.]), array([1., 0.]), array([0., 1.]), array([1., 0.]), array([0., 1.]), array([0., 1.]), array([1., 0.]), array([0., 1.]), array([1., 0.]), array([0., 1.]), array([0., 1.]), array([1., 0.]), array([1., 0.]), array([0., 1.]), array([1., 0.]), array([0., 1.]), array([1., 0.]), array([1., 0.]), array([0., 1.]), array([0., 1.]), array([0., 1.]), array([0., 1.]), array([0., 1.]), array([0., 1.]), array([1., 0.]), array([1., 0.]), array([0., 1.]), array([0., 1.]), array([1., 0.]), array([1., 0.]), array([1., 0.]), array([1., 0.]), array([0., 1.]), array([1., 0.]), array([1., 0.]), array([0., 1.]), array([0., 1.]), array([0., 1.]), array([0., 1.]), array([0., 1.]), array([0., 1.]), array([1., 0.]), array([0., 1.]), array([0., 1.]), array([0., 1.]), array([0., 1.]), array([1., 0.]), array([1., 0.]), array([0., 1.]), array([1., 0.]), array([1., 0.]), array([0., 1.]), array([1., 0.]), array([1., 0.]), array([1., 0.]), array([0., 1.]), array([1., 0.]), array([0., 1.]), array([1., 0.]), array([1., 0.]), array([0., 1.]), array([0., 1.]), array([0., 1.]), array([0., 1.]), array([0., 1.]), array([1., 0.]), array([0., 1.]), array([1., 0.]), array([0., 1.]), array([1., 0.]), array([0., 1.]), array([0., 1.]), array([0., 1.]), array([1., 0.]), array([1., 0.]), array([1., 0.]), array([1., 0.]), array([0., 1.]), array([0., 1.]), array([1., 0.]), array([1., 0.]), array([1., 0.]), array([0., 1.]), array([1., 0.]), array([0., 1.]), array([0., 1.]), array([0., 1.]), array([0., 1.]), array([0., 1.]), array([0., 1.]), array([0., 1.]), array([1., 0.]), array([1., 0.]), array([0., 1.]), array([0., 1.]), array([0., 1.]), array([1., 0.]), array([1., 0.]), array([0., 1.]), array([1., 0.]), array([1., 0.]), array([1., 0.]), array([0., 1.]), array([1., 0.]), array([0., 1.]), array([0., 1.]), array([0., 1.]), array([1., 0.]), array([1., 0.]), array([0., 1.]), array([0., 1.]), array([0., 1.]), array([0., 1.]), array([0., 1.]), array([0., 1.]), array([1., 0.]), array([1., 0.]), array([1., 0.]), array([0., 1.]), array([1., 0.]), array([1., 0.]), array([1., 0.]), array([0., 1.]), array([0., 1.]), array([1., 0.]), array([0., 1.]), array([1., 0.]), array([1., 0.]), array([1., 0.]), array([1., 0.]), array([1., 0.]), array([0., 1.]), array([1., 0.]), array([0., 1.]), array([1., 0.]), array([0., 1.]), array([0., 1.]), array([1., 0.]), array([0., 1.]), array([1., 0.]), array([0., 1.]), array([1., 0.]), array([0., 1.]), array([0., 1.]), array([1., 0.]), array([1., 0.]), array([0., 1.]), array([1., 0.]), array([0., 1.]), array([1., 0.]), array([1., 0.]), array([1., 0.]), array([0., 1.]), array([0., 1.]), array([0., 1.]), array([1., 0.]), array([0., 1.]), array([1., 0.]), array([0., 1.]), array([0., 1.]), array([0., 1.]), array([1., 0.]), array([0., 1.]), array([0., 1.]), array([1., 0.]), array([0., 1.]), array([0., 1.]), array([0., 1.]), array([1., 0.]), array([1., 0.]), array([0., 1.]), array([0., 1.])]\n"
          ],
          "name": "stdout"
        }
      ]
    },
    {
      "cell_type": "code",
      "metadata": {
        "id": "yOe_0VtcF5C_"
      },
      "source": [
        "from sklearn.metrics import confusion_matrix\n",
        "\n",
        "y_pred = model.predict(np.array(data_test))\n",
        "y_pred = np.argmax(y_pred, axis=1)"
      ],
      "execution_count": null,
      "outputs": []
    },
    {
      "cell_type": "code",
      "metadata": {
        "id": "edgidbVdRUoV"
      },
      "source": [
        "import numpy as np\n",
        "target_test=np.argmax(target_test, axis=1)"
      ],
      "execution_count": null,
      "outputs": []
    },
    {
      "cell_type": "code",
      "metadata": {
        "id": "wS2w-SoVHSwU",
        "colab": {
          "base_uri": "https://localhost:8080/"
        },
        "outputId": "93e066ca-42bc-466e-b56e-3fc198fa60ca"
      },
      "source": [
        "# confusion matrix in sklearn\n",
        "from sklearn.metrics import confusion_matrix\n",
        "from sklearn.metrics import classification_report\n",
        "\n",
        "# confusion matrix\n",
        "conf_matrix = confusion_matrix( np.array(target_test), y_pred)\n",
        "print('Confusion matrix : \\n',conf_matrix)"
      ],
      "execution_count": null,
      "outputs": [
        {
          "output_type": "stream",
          "text": [
            "Confusion matrix : \n",
            " [[ 86   5]\n",
            " [  7 102]]\n"
          ],
          "name": "stdout"
        }
      ]
    },
    {
      "cell_type": "code",
      "metadata": {
        "id": "oRKZFQXw_28X",
        "colab": {
          "base_uri": "https://localhost:8080/"
        },
        "outputId": "336b68f4-2a11-4068-d102-2562677006fe"
      },
      "source": [
        "##########################\n",
        "# SAVE #\n",
        "##########################\n",
        "model.save(\"VGG-model\")\n",
        "\n",
        "##########################\n",
        "# LOAD #\n",
        "##########################\n",
        "reconstructed_model = keras.models.load_model(\"VGG-model\")"
      ],
      "execution_count": null,
      "outputs": [
        {
          "output_type": "stream",
          "text": [
            "WARNING:absl:Found untraced functions such as lstm_cell_layer_call_and_return_conditional_losses, lstm_cell_layer_call_fn, lstm_cell_layer_call_fn, lstm_cell_layer_call_and_return_conditional_losses, lstm_cell_layer_call_and_return_conditional_losses while saving (showing 5 of 5). These functions will not be directly callable after loading.\n"
          ],
          "name": "stderr"
        },
        {
          "output_type": "stream",
          "text": [
            "INFO:tensorflow:Assets written to: VGG-model/assets\n"
          ],
          "name": "stdout"
        },
        {
          "output_type": "stream",
          "text": [
            "INFO:tensorflow:Assets written to: VGG-model/assets\n"
          ],
          "name": "stderr"
        }
      ]
    },
    {
      "cell_type": "code",
      "metadata": {
        "colab": {
          "base_uri": "https://localhost:8080/"
        },
        "id": "hBNeFMhYUuzo",
        "outputId": "e8cfda23-ffc0-43bf-925a-063fe50ff466"
      },
      "source": [
        "!zip -r \"/content/VGG-model.zip\" \"/content/VGG-model\""
      ],
      "execution_count": null,
      "outputs": [
        {
          "output_type": "stream",
          "text": [
            "  adding: content/VGG-model/ (stored 0%)\n",
            "  adding: content/VGG-model/variables/ (stored 0%)\n",
            "  adding: content/VGG-model/variables/variables.data-00000-of-00001 (deflated 19%)\n",
            "  adding: content/VGG-model/variables/variables.index (deflated 64%)\n",
            "  adding: content/VGG-model/assets/ (stored 0%)\n",
            "  adding: content/VGG-model/keras_metadata.pb (deflated 89%)\n",
            "  adding: content/VGG-model/saved_model.pb (deflated 89%)\n"
          ],
          "name": "stdout"
        }
      ]
    }
  ]
}